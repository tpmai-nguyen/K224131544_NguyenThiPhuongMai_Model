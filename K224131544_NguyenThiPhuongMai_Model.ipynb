{
  "cells": [
    {
      "cell_type": "markdown",
      "metadata": {
        "id": "XIuhAhIevvNb"
      },
      "source": [
        "# **Nguyễn Thị Phương Mai _ K224131544**"
      ]
    },
    {
      "cell_type": "markdown",
      "source": [
        "Import thư viện"
      ],
      "metadata": {
        "id": "ITOgSQMVkbMu"
      }
    },
    {
      "cell_type": "code",
      "execution_count": 4,
      "metadata": {
        "id": "vZTw69vwvqK-"
      },
      "outputs": [],
      "source": [
        "import pandas as pd\n",
        "import numpy as np\n",
        "from sklearn import preprocessing\n",
        "import urllib.parse\n",
        "from sklearn.model_selection import train_test_split\n",
        "from sklearn.ensemble import RandomForestClassifier\n",
        "from sklearn.neighbors import KNeighborsClassifier\n",
        "from sklearn.tree import DecisionTreeClassifier\n",
        "from sklearn.naive_bayes import GaussianNB\n",
        "from sklearn.linear_model import LogisticRegression\n",
        "from sklearn.svm import SVC\n",
        "from sklearn.metrics import accuracy_score, classification_report"
      ]
    },
    {
      "cell_type": "markdown",
      "source": [
        "Đọc dữ liệu"
      ],
      "metadata": {
        "id": "cdgj8q-yQ0Cz"
      }
    },
    {
      "cell_type": "code",
      "source": [
        "sheet_url = \"https://docs.google.com/spreadsheets/d/1Oz0jxSi_BzhW5-iXhILvMiMirjAQYKb2/edit?usp=sharing&ouid=117075034744329459810&rtpof=true&sd=true\"\n",
        "url_parts = urllib.parse.urlparse(sheet_url)\n",
        "sheet_id = url_parts.path.split(\"/\")[3]\n",
        "sheet_name = \"Sheet1\"\n",
        "url = f\"https://docs.google.com/spreadsheets/d/{sheet_id}/gviz/tq?tqx=out:csv&sheet={sheet_name}\"\n",
        "\n",
        "df = pd.read_csv(url)\n",
        "\n",
        "print(df.head())"
      ],
      "metadata": {
        "colab": {
          "base_uri": "https://localhost:8080/"
        },
        "id": "DdU6Obo6eqeO",
        "outputId": "dc284742-2243-4530-bcd2-9d583ed8d5ed"
      },
      "execution_count": 5,
      "outputs": [
        {
          "output_type": "stream",
          "name": "stdout",
          "text": [
            "  Payment Type  Days for shipment (real)  Days for shipment (scheduled)  \\\n",
            "0        DEBIT                         3                              4   \n",
            "1     TRANSFER                         5                              4   \n",
            "2         CASH                         4                              4   \n",
            "3        DEBIT                         3                              4   \n",
            "4      PAYMENT                         2                              4   \n",
            "\n",
            "    Delivery Status  Late_delivery_risk           Customer Street  \\\n",
            "0  Advance shipping                   0  5365 Noble Nectar Island   \n",
            "1     Late delivery                   1          2679 Rustic Loop   \n",
            "2  Shipping on time                   0      8510 Round Bear Gate   \n",
            "3  Advance shipping                   0           3200 Amber Bend   \n",
            "4  Advance shipping                   0  8671 Iron Anchor Corners   \n",
            "\n",
            "  Customer City  Customer Zipcode Customer Country Customer State  ...  \\\n",
            "0        Caguas               725      Puerto Rico             PR  ...   \n",
            "1        Caguas               725      Puerto Rico             PR  ...   \n",
            "2      San Jose             95125          EE. UU.             CA  ...   \n",
            "3   Los Angeles             90027          EE. UU.             CA  ...   \n",
            "4        Caguas               725      Puerto Rico             PR  ...   \n",
            "\n",
            "  Order Item Quantity   Sales Order Item Total Order Profit Per Order  \\\n",
            "0                   1  327,75      314,6400146                  91,25   \n",
            "1                   1  327,75      311,3599854           -249,0899963   \n",
            "2                   1  327,75      309,7200012           -247,7799988   \n",
            "3                   1  327,75      304,8099976            22,86000061   \n",
            "4                   1  327,75           298,25            134,2100067   \n",
            "\n",
            "      Order Status Department Name   Category Name  Product Name  \\\n",
            "0         COMPLETE         Fitness  Sporting Goods  Smart watch    \n",
            "1          PENDING         Fitness  Sporting Goods  Smart watch    \n",
            "2           CLOSED         Fitness  Sporting Goods  Smart watch    \n",
            "3         COMPLETE         Fitness  Sporting Goods  Smart watch    \n",
            "4  PENDING_PAYMENT         Fitness  Sporting Goods  Smart watch    \n",
            "\n",
            "   Shipping Date   Shipping Mode  \n",
            "0   2/3/18 22:56  Standard Class  \n",
            "1  1/18/18 12:27  Standard Class  \n",
            "2  1/17/18 12:06  Standard Class  \n",
            "3  1/16/18 11:45  Standard Class  \n",
            "4  1/15/18 11:24  Standard Class  \n",
            "\n",
            "[5 rows x 34 columns]\n"
          ]
        }
      ]
    },
    {
      "cell_type": "markdown",
      "source": [
        "Dự đoán 'Late_delivery_risk' dựa trên 'Customer Country', 'Customer State', 'Customer City', 'Customer Segment', 'Order City', 'Order State', 'Order Country', 'Shipping Mode', 'Department Name', 'Category Name', 'Product Name'"
      ],
      "metadata": {
        "id": "u7FZ7MN_OIH0"
      }
    },
    {
      "cell_type": "code",
      "source": [
        "X = df[['Customer Country', 'Customer State', 'Customer City', 'Customer Segment', 'Order City', 'Order State', 'Order Country', 'Shipping Mode', 'Department Name', 'Category Name', 'Product Name']]\n",
        "y = df['Late_delivery_risk']\n",
        "\n",
        "X = pd.get_dummies(X, columns=['Customer Country', 'Customer State', 'Customer City', 'Customer Segment', 'Order City', 'Order State', 'Order Country', 'Shipping Mode', 'Department Name', 'Category Name', 'Product Name'], drop_first=True)\n",
        "\n",
        "X_train, X_test, y_train, y_test = train_test_split(X, y, test_size=0.2, random_state=42)\n",
        "\n",
        "models = {\n",
        "    \"RandomForest\": RandomForestClassifier(random_state=42),\n",
        "    \"LogisticRegression\": LogisticRegression(random_state=42, max_iter=1000),  # Increased max_iter\n",
        "    \"SVM\": SVC(random_state=42),\n",
        "    \"KNN\": KNeighborsClassifier(),\n",
        "    \"DecisionTree\": DecisionTreeClassifier(random_state=42),\n",
        "    \"NaiveBayes\": GaussianNB()\n",
        "}\n",
        "\n",
        "results = {}\n",
        "for name, model in models.items():\n",
        "    model.fit(X_train, y_train)\n",
        "    y_pred = model.predict(X_test)\n",
        "    accuracy = accuracy_score(y_test, y_pred)\n",
        "    results[name] = {\n",
        "        \"accuracy\": accuracy,\n",
        "        \"classification_report\": classification_report(y_test, y_pred)\n",
        "    }\n",
        "    print(f\"--- {name} ---\")\n",
        "    print(f\"Accuracy: {accuracy}\")\n",
        "    print(classification_report(y_test, y_pred))"
      ],
      "metadata": {
        "id": "auW5pVJoikQs",
        "outputId": "cb2805dc-fbcd-4445-a56f-d6f3aada08bc",
        "colab": {
          "base_uri": "https://localhost:8080/"
        }
      },
      "execution_count": 6,
      "outputs": [
        {
          "output_type": "stream",
          "name": "stdout",
          "text": [
            "--- RandomForest ---\n",
            "Accuracy: 0.6857142857142857\n",
            "              precision    recall  f1-score   support\n",
            "\n",
            "           0       0.65      0.83      0.73       234\n",
            "           1       0.75      0.53      0.62       221\n",
            "\n",
            "    accuracy                           0.69       455\n",
            "   macro avg       0.70      0.68      0.68       455\n",
            "weighted avg       0.70      0.69      0.68       455\n",
            "\n",
            "--- LogisticRegression ---\n",
            "Accuracy: 0.6967032967032967\n",
            "              precision    recall  f1-score   support\n",
            "\n",
            "           0       0.68      0.79      0.73       234\n",
            "           1       0.73      0.60      0.66       221\n",
            "\n",
            "    accuracy                           0.70       455\n",
            "   macro avg       0.70      0.69      0.69       455\n",
            "weighted avg       0.70      0.70      0.69       455\n",
            "\n",
            "--- SVM ---\n",
            "Accuracy: 0.6857142857142857\n",
            "              precision    recall  f1-score   support\n",
            "\n",
            "           0       0.64      0.88      0.74       234\n",
            "           1       0.79      0.48      0.60       221\n",
            "\n",
            "    accuracy                           0.69       455\n",
            "   macro avg       0.72      0.68      0.67       455\n",
            "weighted avg       0.71      0.69      0.67       455\n",
            "\n",
            "--- KNN ---\n",
            "Accuracy: 0.6329670329670329\n",
            "              precision    recall  f1-score   support\n",
            "\n",
            "           0       0.63      0.68      0.66       234\n",
            "           1       0.63      0.58      0.61       221\n",
            "\n",
            "    accuracy                           0.63       455\n",
            "   macro avg       0.63      0.63      0.63       455\n",
            "weighted avg       0.63      0.63      0.63       455\n",
            "\n",
            "--- DecisionTree ---\n",
            "Accuracy: 0.6703296703296703\n",
            "              precision    recall  f1-score   support\n",
            "\n",
            "           0       0.66      0.74      0.70       234\n",
            "           1       0.68      0.60      0.64       221\n",
            "\n",
            "    accuracy                           0.67       455\n",
            "   macro avg       0.67      0.67      0.67       455\n",
            "weighted avg       0.67      0.67      0.67       455\n",
            "\n",
            "--- NaiveBayes ---\n",
            "Accuracy: 0.5648351648351648\n",
            "              precision    recall  f1-score   support\n",
            "\n",
            "           0       0.65      0.34      0.45       234\n",
            "           1       0.53      0.80      0.64       221\n",
            "\n",
            "    accuracy                           0.56       455\n",
            "   macro avg       0.59      0.57      0.54       455\n",
            "weighted avg       0.59      0.56      0.54       455\n",
            "\n"
          ]
        }
      ]
    },
    {
      "cell_type": "markdown",
      "source": [
        "Chọn model tốt nhất"
      ],
      "metadata": {
        "id": "-8znrac0tqjW"
      }
    },
    {
      "cell_type": "code",
      "source": [
        "best_model_name = max(results, key=lambda k: results[k][\"accuracy\"])\n",
        "print(f\"\\nBest Model: {best_model_name}\")\n",
        "print(f\"Accuracy: {results[best_model_name]['accuracy']}\")\n",
        "print(f\"Classification Report:\\n{results[best_model_name]['classification_report']}\")"
      ],
      "metadata": {
        "colab": {
          "base_uri": "https://localhost:8080/"
        },
        "id": "sf0pLKk_lwzw",
        "outputId": "4ab4ed34-d268-4036-caf4-e3a19a0f299d"
      },
      "execution_count": 7,
      "outputs": [
        {
          "output_type": "stream",
          "name": "stdout",
          "text": [
            "\n",
            "Best Model: LogisticRegression\n",
            "Accuracy: 0.6967032967032967\n",
            "Classification Report:\n",
            "              precision    recall  f1-score   support\n",
            "\n",
            "           0       0.68      0.79      0.73       234\n",
            "           1       0.73      0.60      0.66       221\n",
            "\n",
            "    accuracy                           0.70       455\n",
            "   macro avg       0.70      0.69      0.69       455\n",
            "weighted avg       0.70      0.70      0.69       455\n",
            "\n"
          ]
        }
      ]
    },
    {
      "cell_type": "markdown",
      "source": [
        "Lưu model tốt nhất"
      ],
      "metadata": {
        "id": "EgGrKbT73OnT"
      }
    },
    {
      "cell_type": "code",
      "source": [
        "import joblib\n",
        "best_model = models[best_model_name]\n",
        "joblib.dump(best_model, 'best_model.pkl')\n",
        "print(f\"\\nModel tốt nhất đã được lưu thành best_model.pkl\")"
      ],
      "metadata": {
        "colab": {
          "base_uri": "https://localhost:8080/"
        },
        "id": "FEasQRn5mEjA",
        "outputId": "f331589d-4e6f-4039-9755-328ceb0a3133"
      },
      "execution_count": 8,
      "outputs": [
        {
          "output_type": "stream",
          "name": "stdout",
          "text": [
            "\n",
            "Model tốt nhất đã được lưu thành best_model.pkl\n"
          ]
        }
      ]
    },
    {
      "cell_type": "code",
      "source": [
        "loaded_model_sales = joblib.load('best_model.pkl')\n",
        "from google.colab import files\n",
        "files.download('best_model.pkl')"
      ],
      "metadata": {
        "id": "8fMJm1Fd3OO4",
        "colab": {
          "base_uri": "https://localhost:8080/",
          "height": 17
        },
        "outputId": "f190d95a-b307-49c9-c4c5-c811f646f617"
      },
      "execution_count": 9,
      "outputs": [
        {
          "output_type": "display_data",
          "data": {
            "text/plain": [
              "<IPython.core.display.Javascript object>"
            ],
            "application/javascript": [
              "\n",
              "    async function download(id, filename, size) {\n",
              "      if (!google.colab.kernel.accessAllowed) {\n",
              "        return;\n",
              "      }\n",
              "      const div = document.createElement('div');\n",
              "      const label = document.createElement('label');\n",
              "      label.textContent = `Downloading \"${filename}\": `;\n",
              "      div.appendChild(label);\n",
              "      const progress = document.createElement('progress');\n",
              "      progress.max = size;\n",
              "      div.appendChild(progress);\n",
              "      document.body.appendChild(div);\n",
              "\n",
              "      const buffers = [];\n",
              "      let downloaded = 0;\n",
              "\n",
              "      const channel = await google.colab.kernel.comms.open(id);\n",
              "      // Send a message to notify the kernel that we're ready.\n",
              "      channel.send({})\n",
              "\n",
              "      for await (const message of channel.messages) {\n",
              "        // Send a message to notify the kernel that we're ready.\n",
              "        channel.send({})\n",
              "        if (message.buffers) {\n",
              "          for (const buffer of message.buffers) {\n",
              "            buffers.push(buffer);\n",
              "            downloaded += buffer.byteLength;\n",
              "            progress.value = downloaded;\n",
              "          }\n",
              "        }\n",
              "      }\n",
              "      const blob = new Blob(buffers, {type: 'application/binary'});\n",
              "      const a = document.createElement('a');\n",
              "      a.href = window.URL.createObjectURL(blob);\n",
              "      a.download = filename;\n",
              "      div.appendChild(a);\n",
              "      a.click();\n",
              "      div.remove();\n",
              "    }\n",
              "  "
            ]
          },
          "metadata": {}
        },
        {
          "output_type": "display_data",
          "data": {
            "text/plain": [
              "<IPython.core.display.Javascript object>"
            ],
            "application/javascript": [
              "download(\"download_9f3bbbca-0b6b-465e-9a15-e138dffa1bed\", \"best_model.pkl\", 83855)"
            ]
          },
          "metadata": {}
        }
      ]
    },
    {
      "cell_type": "markdown",
      "source": [
        "Tạo data cho selectbox"
      ],
      "metadata": {
        "id": "jgDOZosJqoTH"
      }
    },
    {
      "cell_type": "code",
      "source": [
        "unique_cols = ['Customer Country', 'Customer State', 'Customer City', 'Customer Segment',\n",
        "                'Order City', 'Order State', 'Order Country', 'Shipping Mode',\n",
        "                'Department Name', 'Category Name', 'Product Name']\n",
        "\n",
        "unique_df = df[unique_cols].drop_duplicates()\n",
        "\n",
        "unique_df.to_csv('unique_values.csv', index=False)\n",
        "from google.colab import files\n",
        "files.download('unique_values.csv')"
      ],
      "metadata": {
        "colab": {
          "base_uri": "https://localhost:8080/",
          "height": 17
        },
        "id": "gXFnZvLSqndb",
        "outputId": "b0b65e78-8818-4971-94c2-0a860aa14145"
      },
      "execution_count": 10,
      "outputs": [
        {
          "output_type": "display_data",
          "data": {
            "text/plain": [
              "<IPython.core.display.Javascript object>"
            ],
            "application/javascript": [
              "\n",
              "    async function download(id, filename, size) {\n",
              "      if (!google.colab.kernel.accessAllowed) {\n",
              "        return;\n",
              "      }\n",
              "      const div = document.createElement('div');\n",
              "      const label = document.createElement('label');\n",
              "      label.textContent = `Downloading \"${filename}\": `;\n",
              "      div.appendChild(label);\n",
              "      const progress = document.createElement('progress');\n",
              "      progress.max = size;\n",
              "      div.appendChild(progress);\n",
              "      document.body.appendChild(div);\n",
              "\n",
              "      const buffers = [];\n",
              "      let downloaded = 0;\n",
              "\n",
              "      const channel = await google.colab.kernel.comms.open(id);\n",
              "      // Send a message to notify the kernel that we're ready.\n",
              "      channel.send({})\n",
              "\n",
              "      for await (const message of channel.messages) {\n",
              "        // Send a message to notify the kernel that we're ready.\n",
              "        channel.send({})\n",
              "        if (message.buffers) {\n",
              "          for (const buffer of message.buffers) {\n",
              "            buffers.push(buffer);\n",
              "            downloaded += buffer.byteLength;\n",
              "            progress.value = downloaded;\n",
              "          }\n",
              "        }\n",
              "      }\n",
              "      const blob = new Blob(buffers, {type: 'application/binary'});\n",
              "      const a = document.createElement('a');\n",
              "      a.href = window.URL.createObjectURL(blob);\n",
              "      a.download = filename;\n",
              "      div.appendChild(a);\n",
              "      a.click();\n",
              "      div.remove();\n",
              "    }\n",
              "  "
            ]
          },
          "metadata": {}
        },
        {
          "output_type": "display_data",
          "data": {
            "text/plain": [
              "<IPython.core.display.Javascript object>"
            ],
            "application/javascript": [
              "download(\"download_e1175a2f-8652-4625-9f2a-bb4780f049e5\", \"unique_values.csv\", 274837)"
            ]
          },
          "metadata": {}
        }
      ]
    },
    {
      "cell_type": "markdown",
      "source": [
        "Load best *model*"
      ],
      "metadata": {
        "id": "Dt8wOD-T97b8"
      }
    },
    {
      "cell_type": "code",
      "source": [
        "!pip install streamlit"
      ],
      "metadata": {
        "id": "POt8JuUi2-TK",
        "colab": {
          "base_uri": "https://localhost:8080/"
        },
        "outputId": "9a53458a-bc24-43d7-a460-10fbeb027116"
      },
      "execution_count": 11,
      "outputs": [
        {
          "output_type": "stream",
          "name": "stdout",
          "text": [
            "Requirement already satisfied: streamlit in /usr/local/lib/python3.10/dist-packages (1.40.0)\n",
            "Requirement already satisfied: altair<6,>=4.0 in /usr/local/lib/python3.10/dist-packages (from streamlit) (4.2.2)\n",
            "Requirement already satisfied: blinker<2,>=1.0.0 in /usr/lib/python3/dist-packages (from streamlit) (1.4)\n",
            "Requirement already satisfied: cachetools<6,>=4.0 in /usr/local/lib/python3.10/dist-packages (from streamlit) (5.5.0)\n",
            "Requirement already satisfied: click<9,>=7.0 in /usr/local/lib/python3.10/dist-packages (from streamlit) (8.1.7)\n",
            "Requirement already satisfied: numpy<3,>=1.20 in /usr/local/lib/python3.10/dist-packages (from streamlit) (1.26.4)\n",
            "Requirement already satisfied: packaging<25,>=20 in /usr/local/lib/python3.10/dist-packages (from streamlit) (24.1)\n",
            "Requirement already satisfied: pandas<3,>=1.4.0 in /usr/local/lib/python3.10/dist-packages (from streamlit) (2.2.2)\n",
            "Requirement already satisfied: pillow<12,>=7.1.0 in /usr/local/lib/python3.10/dist-packages (from streamlit) (10.4.0)\n",
            "Requirement already satisfied: protobuf<6,>=3.20 in /usr/local/lib/python3.10/dist-packages (from streamlit) (3.20.3)\n",
            "Requirement already satisfied: pyarrow>=7.0 in /usr/local/lib/python3.10/dist-packages (from streamlit) (17.0.0)\n",
            "Requirement already satisfied: requests<3,>=2.27 in /usr/local/lib/python3.10/dist-packages (from streamlit) (2.32.3)\n",
            "Requirement already satisfied: rich<14,>=10.14.0 in /usr/local/lib/python3.10/dist-packages (from streamlit) (13.9.3)\n",
            "Requirement already satisfied: tenacity<10,>=8.1.0 in /usr/local/lib/python3.10/dist-packages (from streamlit) (9.0.0)\n",
            "Requirement already satisfied: toml<2,>=0.10.1 in /usr/local/lib/python3.10/dist-packages (from streamlit) (0.10.2)\n",
            "Requirement already satisfied: typing-extensions<5,>=4.3.0 in /usr/local/lib/python3.10/dist-packages (from streamlit) (4.12.2)\n",
            "Requirement already satisfied: gitpython!=3.1.19,<4,>=3.0.7 in /usr/local/lib/python3.10/dist-packages (from streamlit) (3.1.43)\n",
            "Requirement already satisfied: pydeck<1,>=0.8.0b4 in /usr/local/lib/python3.10/dist-packages (from streamlit) (0.9.1)\n",
            "Requirement already satisfied: tornado<7,>=6.0.3 in /usr/local/lib/python3.10/dist-packages (from streamlit) (6.3.3)\n",
            "Requirement already satisfied: watchdog<6,>=2.1.5 in /usr/local/lib/python3.10/dist-packages (from streamlit) (5.0.3)\n",
            "Requirement already satisfied: entrypoints in /usr/local/lib/python3.10/dist-packages (from altair<6,>=4.0->streamlit) (0.4)\n",
            "Requirement already satisfied: jinja2 in /usr/local/lib/python3.10/dist-packages (from altair<6,>=4.0->streamlit) (3.1.4)\n",
            "Requirement already satisfied: jsonschema>=3.0 in /usr/local/lib/python3.10/dist-packages (from altair<6,>=4.0->streamlit) (4.23.0)\n",
            "Requirement already satisfied: toolz in /usr/local/lib/python3.10/dist-packages (from altair<6,>=4.0->streamlit) (0.12.1)\n",
            "Requirement already satisfied: gitdb<5,>=4.0.1 in /usr/local/lib/python3.10/dist-packages (from gitpython!=3.1.19,<4,>=3.0.7->streamlit) (4.0.11)\n",
            "Requirement already satisfied: python-dateutil>=2.8.2 in /usr/local/lib/python3.10/dist-packages (from pandas<3,>=1.4.0->streamlit) (2.8.2)\n",
            "Requirement already satisfied: pytz>=2020.1 in /usr/local/lib/python3.10/dist-packages (from pandas<3,>=1.4.0->streamlit) (2024.2)\n",
            "Requirement already satisfied: tzdata>=2022.7 in /usr/local/lib/python3.10/dist-packages (from pandas<3,>=1.4.0->streamlit) (2024.2)\n",
            "Requirement already satisfied: charset-normalizer<4,>=2 in /usr/local/lib/python3.10/dist-packages (from requests<3,>=2.27->streamlit) (3.4.0)\n",
            "Requirement already satisfied: idna<4,>=2.5 in /usr/local/lib/python3.10/dist-packages (from requests<3,>=2.27->streamlit) (3.10)\n",
            "Requirement already satisfied: urllib3<3,>=1.21.1 in /usr/local/lib/python3.10/dist-packages (from requests<3,>=2.27->streamlit) (2.2.3)\n",
            "Requirement already satisfied: certifi>=2017.4.17 in /usr/local/lib/python3.10/dist-packages (from requests<3,>=2.27->streamlit) (2024.8.30)\n",
            "Requirement already satisfied: markdown-it-py>=2.2.0 in /usr/local/lib/python3.10/dist-packages (from rich<14,>=10.14.0->streamlit) (3.0.0)\n",
            "Requirement already satisfied: pygments<3.0.0,>=2.13.0 in /usr/local/lib/python3.10/dist-packages (from rich<14,>=10.14.0->streamlit) (2.18.0)\n",
            "Requirement already satisfied: smmap<6,>=3.0.1 in /usr/local/lib/python3.10/dist-packages (from gitdb<5,>=4.0.1->gitpython!=3.1.19,<4,>=3.0.7->streamlit) (5.0.1)\n",
            "Requirement already satisfied: MarkupSafe>=2.0 in /usr/local/lib/python3.10/dist-packages (from jinja2->altair<6,>=4.0->streamlit) (3.0.2)\n",
            "Requirement already satisfied: attrs>=22.2.0 in /usr/local/lib/python3.10/dist-packages (from jsonschema>=3.0->altair<6,>=4.0->streamlit) (24.2.0)\n",
            "Requirement already satisfied: jsonschema-specifications>=2023.03.6 in /usr/local/lib/python3.10/dist-packages (from jsonschema>=3.0->altair<6,>=4.0->streamlit) (2024.10.1)\n",
            "Requirement already satisfied: referencing>=0.28.4 in /usr/local/lib/python3.10/dist-packages (from jsonschema>=3.0->altair<6,>=4.0->streamlit) (0.35.1)\n",
            "Requirement already satisfied: rpds-py>=0.7.1 in /usr/local/lib/python3.10/dist-packages (from jsonschema>=3.0->altair<6,>=4.0->streamlit) (0.20.0)\n",
            "Requirement already satisfied: mdurl~=0.1 in /usr/local/lib/python3.10/dist-packages (from markdown-it-py>=2.2.0->rich<14,>=10.14.0->streamlit) (0.1.2)\n",
            "Requirement already satisfied: six>=1.5 in /usr/local/lib/python3.10/dist-packages (from python-dateutil>=2.8.2->pandas<3,>=1.4.0->streamlit) (1.16.0)\n"
          ]
        }
      ]
    },
    {
      "cell_type": "code",
      "source": [
        "import streamlit as st\n",
        "import joblib\n",
        "import pandas as pd\n",
        "from sklearn.preprocessing import StandardScaler\n",
        "\n",
        "try:\n",
        "    best_model = joblib.load(\"best_model.pkl\")\n",
        "    st.write(\"Mô hình đã được tải thành công!\")\n",
        "except FileNotFoundError as e:\n",
        "    st.write(f\"Lỗi: Không tìm thấy tệp ({e})\")\n",
        "    st.stop()\n",
        "except Exception as e:\n",
        "    st.write(f\"Đã có lỗi khi tải mô hình hoặc scaler: {e}\")\n",
        "    st.stop()\n",
        "\n",
        "\n",
        "st.title(\"Ứng dụng Dự đoán Rủi ro giao hàng trễ\")\n",
        "\n",
        "st.header(\"Nhập thông tin đơn hàng:\")\n",
        "\n",
        "try:\n",
        "    unique_values = pd.read_csv('unique_values.csv')\n",
        "except FileNotFoundError:\n",
        "    st.error(\"File unique_values.csv not found. Please make sure it is in the same directory as your script.\")\n",
        "    st.stop()\n",
        "except Exception as e:\n",
        "    st.error(f\"An error occurred while loading unique_values.csv: {e}\")\n",
        "    st.stop()\n",
        "\n",
        "customer_country = st.selectbox(\"Customer Country\", unique_values['Customer Country'].unique())\n",
        "customer_state = st.selectbox(\"Customer State\", unique_values['Customer State'].unique())\n",
        "customer_city = st.selectbox(\"Customer City\", unique_values['Customer City'].unique())\n",
        "customer_segment = st.selectbox(\"Customer Segment\", unique_values['Customer Segment'].unique())\n",
        "order_city = st.selectbox(\"Order City\", unique_values['Order City'].unique())\n",
        "order_state = st.selectbox(\"Order State\", unique_values['Order State'].unique())\n",
        "order_country = st.selectbox(\"Order Country\", unique_values['Order Country'].unique())\n",
        "shipping_mode = st.selectbox(\"Shipping Mode\", unique_values['Shipping Mode'].unique())\n",
        "department_name = st.selectbox(\"Department Name\", unique_values['Department Name'].unique())\n",
        "category_name = st.selectbox(\"Category Name\", unique_values['Category Name'].unique())\n",
        "product_name = st.selectbox(\"Product Name\", unique_values['Product Name'].unique())\n",
        "\n",
        "if st.button(\"Dự đoán Rủi ro giao hàng trễ\"):\n",
        "    input_data = pd.DataFrame({\n",
        "        'Customer Country': [customer_country],\n",
        "        'Customer State': [customer_state],\n",
        "        'Customer City': [customer_city],\n",
        "        'Customer Segment': [customer_segment],\n",
        "        'Order City': [order_city],\n",
        "        'Order State': [order_state],\n",
        "        'Order Country': [order_country],\n",
        "        'Shipping Mode': [shipping_mode],\n",
        "        'Department Name': [department_name],\n",
        "        'Category Name': [category_name],\n",
        "        'Product Name': [product_name]\n",
        "    })\n",
        "\n",
        "    input_data_scaled = scaler.transform(input_data)\n",
        "\n",
        "    prediction_profit = best_model.predict(input_data_scaled)\n",
        "\n",
        "    st.write(f\"Dự đoán Rủi ro giao hàng trễ: {prediction_profit[0]}\")"
      ],
      "metadata": {
        "colab": {
          "base_uri": "https://localhost:8080/"
        },
        "id": "6ko5om5etfNf",
        "outputId": "712a6f56-7ad1-472d-e6ec-875c5b8930dc"
      },
      "execution_count": 12,
      "outputs": [
        {
          "output_type": "stream",
          "name": "stderr",
          "text": [
            "2024-11-07 17:43:11.427 WARNING streamlit.runtime.scriptrunner_utils.script_run_context: Thread 'MainThread': missing ScriptRunContext! This warning can be ignored when running in bare mode.\n",
            "2024-11-07 17:43:11.656 \n",
            "  \u001b[33m\u001b[1mWarning:\u001b[0m to view this Streamlit app on a browser, run it with the following\n",
            "  command:\n",
            "\n",
            "    streamlit run /usr/local/lib/python3.10/dist-packages/colab_kernel_launcher.py [ARGUMENTS]\n",
            "2024-11-07 17:43:11.661 Thread 'MainThread': missing ScriptRunContext! This warning can be ignored when running in bare mode.\n",
            "2024-11-07 17:43:11.664 Thread 'MainThread': missing ScriptRunContext! This warning can be ignored when running in bare mode.\n",
            "2024-11-07 17:43:11.668 Thread 'MainThread': missing ScriptRunContext! This warning can be ignored when running in bare mode.\n",
            "2024-11-07 17:43:11.669 Thread 'MainThread': missing ScriptRunContext! This warning can be ignored when running in bare mode.\n",
            "2024-11-07 17:43:11.671 Thread 'MainThread': missing ScriptRunContext! This warning can be ignored when running in bare mode.\n",
            "2024-11-07 17:43:11.673 Thread 'MainThread': missing ScriptRunContext! This warning can be ignored when running in bare mode.\n",
            "2024-11-07 17:43:11.675 Thread 'MainThread': missing ScriptRunContext! This warning can be ignored when running in bare mode.\n",
            "2024-11-07 17:43:11.691 Thread 'MainThread': missing ScriptRunContext! This warning can be ignored when running in bare mode.\n",
            "2024-11-07 17:43:11.693 Thread 'MainThread': missing ScriptRunContext! This warning can be ignored when running in bare mode.\n",
            "2024-11-07 17:43:11.696 Thread 'MainThread': missing ScriptRunContext! This warning can be ignored when running in bare mode.\n",
            "2024-11-07 17:43:11.697 Thread 'MainThread': missing ScriptRunContext! This warning can be ignored when running in bare mode.\n",
            "2024-11-07 17:43:11.700 Session state does not function when running a script without `streamlit run`\n",
            "2024-11-07 17:43:11.702 Thread 'MainThread': missing ScriptRunContext! This warning can be ignored when running in bare mode.\n",
            "2024-11-07 17:43:11.703 Thread 'MainThread': missing ScriptRunContext! This warning can be ignored when running in bare mode.\n",
            "2024-11-07 17:43:11.705 Thread 'MainThread': missing ScriptRunContext! This warning can be ignored when running in bare mode.\n",
            "2024-11-07 17:43:11.706 Thread 'MainThread': missing ScriptRunContext! This warning can be ignored when running in bare mode.\n",
            "2024-11-07 17:43:11.711 Thread 'MainThread': missing ScriptRunContext! This warning can be ignored when running in bare mode.\n",
            "2024-11-07 17:43:11.712 Thread 'MainThread': missing ScriptRunContext! This warning can be ignored when running in bare mode.\n",
            "2024-11-07 17:43:11.713 Thread 'MainThread': missing ScriptRunContext! This warning can be ignored when running in bare mode.\n",
            "2024-11-07 17:43:11.717 Thread 'MainThread': missing ScriptRunContext! This warning can be ignored when running in bare mode.\n",
            "2024-11-07 17:43:11.719 Thread 'MainThread': missing ScriptRunContext! This warning can be ignored when running in bare mode.\n",
            "2024-11-07 17:43:11.720 Thread 'MainThread': missing ScriptRunContext! This warning can be ignored when running in bare mode.\n",
            "2024-11-07 17:43:11.725 Thread 'MainThread': missing ScriptRunContext! This warning can be ignored when running in bare mode.\n",
            "2024-11-07 17:43:11.726 Thread 'MainThread': missing ScriptRunContext! This warning can be ignored when running in bare mode.\n",
            "2024-11-07 17:43:11.727 Thread 'MainThread': missing ScriptRunContext! This warning can be ignored when running in bare mode.\n",
            "2024-11-07 17:43:11.732 Thread 'MainThread': missing ScriptRunContext! This warning can be ignored when running in bare mode.\n",
            "2024-11-07 17:43:11.734 Thread 'MainThread': missing ScriptRunContext! This warning can be ignored when running in bare mode.\n",
            "2024-11-07 17:43:11.735 Thread 'MainThread': missing ScriptRunContext! This warning can be ignored when running in bare mode.\n",
            "2024-11-07 17:43:11.737 Thread 'MainThread': missing ScriptRunContext! This warning can be ignored when running in bare mode.\n",
            "2024-11-07 17:43:11.742 Thread 'MainThread': missing ScriptRunContext! This warning can be ignored when running in bare mode.\n",
            "2024-11-07 17:43:11.743 Thread 'MainThread': missing ScriptRunContext! This warning can be ignored when running in bare mode.\n",
            "2024-11-07 17:43:11.744 Thread 'MainThread': missing ScriptRunContext! This warning can be ignored when running in bare mode.\n",
            "2024-11-07 17:43:11.746 Thread 'MainThread': missing ScriptRunContext! This warning can be ignored when running in bare mode.\n",
            "2024-11-07 17:43:11.747 Thread 'MainThread': missing ScriptRunContext! This warning can be ignored when running in bare mode.\n",
            "2024-11-07 17:43:11.750 Thread 'MainThread': missing ScriptRunContext! This warning can be ignored when running in bare mode.\n",
            "2024-11-07 17:43:11.752 Thread 'MainThread': missing ScriptRunContext! This warning can be ignored when running in bare mode.\n",
            "2024-11-07 17:43:11.754 Thread 'MainThread': missing ScriptRunContext! This warning can be ignored when running in bare mode.\n",
            "2024-11-07 17:43:11.756 Thread 'MainThread': missing ScriptRunContext! This warning can be ignored when running in bare mode.\n",
            "2024-11-07 17:43:11.758 Thread 'MainThread': missing ScriptRunContext! This warning can be ignored when running in bare mode.\n",
            "2024-11-07 17:43:11.760 Thread 'MainThread': missing ScriptRunContext! This warning can be ignored when running in bare mode.\n",
            "2024-11-07 17:43:11.762 Thread 'MainThread': missing ScriptRunContext! This warning can be ignored when running in bare mode.\n",
            "2024-11-07 17:43:11.764 Thread 'MainThread': missing ScriptRunContext! This warning can be ignored when running in bare mode.\n",
            "2024-11-07 17:43:11.765 Thread 'MainThread': missing ScriptRunContext! This warning can be ignored when running in bare mode.\n",
            "2024-11-07 17:43:11.767 Thread 'MainThread': missing ScriptRunContext! This warning can be ignored when running in bare mode.\n",
            "2024-11-07 17:43:11.769 Thread 'MainThread': missing ScriptRunContext! This warning can be ignored when running in bare mode.\n",
            "2024-11-07 17:43:11.770 Thread 'MainThread': missing ScriptRunContext! This warning can be ignored when running in bare mode.\n",
            "2024-11-07 17:43:11.772 Thread 'MainThread': missing ScriptRunContext! This warning can be ignored when running in bare mode.\n",
            "2024-11-07 17:43:11.773 Thread 'MainThread': missing ScriptRunContext! This warning can be ignored when running in bare mode.\n",
            "2024-11-07 17:43:11.774 Thread 'MainThread': missing ScriptRunContext! This warning can be ignored when running in bare mode.\n",
            "2024-11-07 17:43:11.776 Thread 'MainThread': missing ScriptRunContext! This warning can be ignored when running in bare mode.\n",
            "2024-11-07 17:43:11.778 Thread 'MainThread': missing ScriptRunContext! This warning can be ignored when running in bare mode.\n",
            "2024-11-07 17:43:11.779 Thread 'MainThread': missing ScriptRunContext! This warning can be ignored when running in bare mode.\n",
            "2024-11-07 17:43:11.781 Thread 'MainThread': missing ScriptRunContext! This warning can be ignored when running in bare mode.\n",
            "2024-11-07 17:43:11.782 Thread 'MainThread': missing ScriptRunContext! This warning can be ignored when running in bare mode.\n",
            "2024-11-07 17:43:11.783 Thread 'MainThread': missing ScriptRunContext! This warning can be ignored when running in bare mode.\n",
            "2024-11-07 17:43:11.784 Thread 'MainThread': missing ScriptRunContext! This warning can be ignored when running in bare mode.\n",
            "2024-11-07 17:43:11.786 Thread 'MainThread': missing ScriptRunContext! This warning can be ignored when running in bare mode.\n",
            "2024-11-07 17:43:11.787 Thread 'MainThread': missing ScriptRunContext! This warning can be ignored when running in bare mode.\n",
            "2024-11-07 17:43:11.790 Thread 'MainThread': missing ScriptRunContext! This warning can be ignored when running in bare mode.\n",
            "2024-11-07 17:43:11.791 Thread 'MainThread': missing ScriptRunContext! This warning can be ignored when running in bare mode.\n",
            "2024-11-07 17:43:11.792 Thread 'MainThread': missing ScriptRunContext! This warning can be ignored when running in bare mode.\n",
            "2024-11-07 17:43:11.793 Thread 'MainThread': missing ScriptRunContext! This warning can be ignored when running in bare mode.\n",
            "2024-11-07 17:43:11.795 Thread 'MainThread': missing ScriptRunContext! This warning can be ignored when running in bare mode.\n",
            "2024-11-07 17:43:11.796 Thread 'MainThread': missing ScriptRunContext! This warning can be ignored when running in bare mode.\n",
            "2024-11-07 17:43:11.799 Thread 'MainThread': missing ScriptRunContext! This warning can be ignored when running in bare mode.\n",
            "2024-11-07 17:43:11.800 Thread 'MainThread': missing ScriptRunContext! This warning can be ignored when running in bare mode.\n",
            "2024-11-07 17:43:11.805 Thread 'MainThread': missing ScriptRunContext! This warning can be ignored when running in bare mode.\n",
            "2024-11-07 17:43:11.806 Thread 'MainThread': missing ScriptRunContext! This warning can be ignored when running in bare mode.\n",
            "2024-11-07 17:43:11.808 Thread 'MainThread': missing ScriptRunContext! This warning can be ignored when running in bare mode.\n",
            "2024-11-07 17:43:11.809 Thread 'MainThread': missing ScriptRunContext! This warning can be ignored when running in bare mode.\n",
            "2024-11-07 17:43:11.811 Thread 'MainThread': missing ScriptRunContext! This warning can be ignored when running in bare mode.\n",
            "2024-11-07 17:43:11.815 Thread 'MainThread': missing ScriptRunContext! This warning can be ignored when running in bare mode.\n",
            "2024-11-07 17:43:11.817 Thread 'MainThread': missing ScriptRunContext! This warning can be ignored when running in bare mode.\n",
            "2024-11-07 17:43:11.818 Thread 'MainThread': missing ScriptRunContext! This warning can be ignored when running in bare mode.\n",
            "2024-11-07 17:43:11.819 Thread 'MainThread': missing ScriptRunContext! This warning can be ignored when running in bare mode.\n",
            "2024-11-07 17:43:11.820 Thread 'MainThread': missing ScriptRunContext! This warning can be ignored when running in bare mode.\n",
            "2024-11-07 17:43:11.824 Thread 'MainThread': missing ScriptRunContext! This warning can be ignored when running in bare mode.\n",
            "2024-11-07 17:43:11.825 Thread 'MainThread': missing ScriptRunContext! This warning can be ignored when running in bare mode.\n",
            "2024-11-07 17:43:11.826 Thread 'MainThread': missing ScriptRunContext! This warning can be ignored when running in bare mode.\n"
          ]
        }
      ]
    },
    {
      "cell_type": "markdown",
      "source": [
        "[Mô hình trên streamlit](https://)"
      ],
      "metadata": {
        "id": "ZwvMxSYDG5oa"
      }
    }
  ],
  "metadata": {
    "colab": {
      "provenance": []
    },
    "kernelspec": {
      "display_name": "Python 3",
      "name": "python3"
    },
    "language_info": {
      "name": "python"
    }
  },
  "nbformat": 4,
  "nbformat_minor": 0
}