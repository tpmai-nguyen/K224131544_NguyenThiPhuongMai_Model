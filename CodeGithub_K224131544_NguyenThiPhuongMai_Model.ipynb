{
  "nbformat": 4,
  "nbformat_minor": 0,
  "metadata": {
    "colab": {
      "provenance": []
    },
    "kernelspec": {
      "name": "python3",
      "display_name": "Python 3"
    },
    "language_info": {
      "name": "python"
    }
  },
  "cells": [
    {
      "cell_type": "code",
      "source": [
        "import streamlit as st\n",
        "import joblib\n",
        "import pandas as pd\n",
        "from sklearn.preprocessing import StandardScaler\n",
        "\n",
        "try:\n",
        "    best_model = joblib.load(\"best_model.pkl\")\n",
        "    st.write(\"Mô hình đã được tải thành công!\")\n",
        "    scaler = joblib.load(\"scaler.pkl\")\n",
        "    st.write(\"Scaler đã được tải thành công!\")\n",
        "except FileNotFoundError as e:\n",
        "    st.write(f\"Lỗi: Không tìm thấy tệp ({e})\")\n",
        "    st.stop()\n",
        "except Exception as e:\n",
        "    st.write(f\"Đã có lỗi khi tải mô hình hoặc scaler: {e}\")\n",
        "    st.stop()\n",
        "\n",
        "\n",
        "st.title(\"Ứng dụng Dự đoán Rủi ro giao hàng trễ\")\n",
        "\n",
        "st.header(\"Nhập thông tin đơn hàng:\")\n",
        "\n",
        "try:\n",
        "    unique_values = pd.read_csv('unique_values.csv')\n",
        "except FileNotFoundError:\n",
        "    st.error(\"File unique_values.csv not found.\")\n",
        "    st.stop()\n",
        "\n",
        "customer_country = st.selectbox(\"Customer Country\", unique_values['Customer Country'].unique())\n",
        "customer_state = st.selectbox(\"Customer State\", unique_values['Customer State'].unique())\n",
        "customer_city = st.selectbox(\"Customer City\", unique_values['Customer City'].unique())\n",
        "customer_segment = st.selectbox(\"Customer Segment\", unique_values['Customer Segment'].unique())\n",
        "order_city = st.selectbox(\"Order City\", unique_values['Order City'].unique())\n",
        "order_state = st.selectbox(\"Order State\", unique_values['Order State'].unique())\n",
        "order_country = st.selectbox(\"Order Country\", unique_values['Order Country'].unique())\n",
        "shipping_mode = st.selectbox(\"Shipping Mode\", unique_values['Shipping Mode'].unique())\n",
        "department_name = st.selectbox(\"Department Name\", unique_values['Department Name'].unique())\n",
        "category_name = st.selectbox(\"Category Name\", unique_values['Category Name'].unique())\n",
        "product_name = st.selectbox(\"Product Name\", unique_values['Product Name'].unique())\n",
        "\n",
        "if st.button(\"Dự đoán Rủi ro giao hàng trễ\"):\n",
        "    input_data = pd.DataFrame({\n",
        "        'Customer Country': [customer_country],\n",
        "        'Customer State': [customer_state],\n",
        "        'Customer City': [customer_city],\n",
        "        'Customer Segment': [customer_segment],\n",
        "        'Order City': [order_city],\n",
        "        'Order State': [order_state],\n",
        "        'Order Country': [order_country],\n",
        "        'Shipping Mode': [shipping_mode],\n",
        "        'Department Name': [department_name],\n",
        "        'Category Name': [category_name],\n",
        "        'Product Name': [product_name]\n",
        "    })\n",
        "\n",
        "    input_data_scaled = scaler.transform(input_data)\n",
        "\n",
        "    prediction_profit = best_model.predict(input_data_scaled)\n",
        "\n",
        "    st.write(f\"Dự đoán Rủi ro giao hàng trễ: {prediction_profit[0]}\")"
      ],
      "metadata": {
        "id": "q0zh7v86pUwR"
      },
      "execution_count": null,
      "outputs": []
    }
  ]
}