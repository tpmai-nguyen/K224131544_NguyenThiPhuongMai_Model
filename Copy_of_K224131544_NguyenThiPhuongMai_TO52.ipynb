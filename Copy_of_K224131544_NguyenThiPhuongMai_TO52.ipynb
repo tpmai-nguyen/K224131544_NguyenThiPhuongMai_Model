{
  "cells": [
    {
      "cell_type": "markdown",
      "metadata": {
        "id": "view-in-github",
        "colab_type": "text"
      },
      "source": [
        "<a href=\"https://colab.research.google.com/github/tpmai-nguyen/K224131544_NguyenThiPhuongMai_Model/blob/main/Copy_of_K224131544_NguyenThiPhuongMai_TO52.ipynb\" target=\"_parent\"><img src=\"https://colab.research.google.com/assets/colab-badge.svg\" alt=\"Open In Colab\"/></a>"
      ]
    },
    {
      "cell_type": "markdown",
      "id": "DnN8xY13JOJi",
      "metadata": {
        "id": "DnN8xY13JOJi"
      },
      "source": [
        "# **Nhóm 7**\n",
        "\n",
        "1.   Nguyễn Thị Phương Mai K224131544\n",
        "2.   Nguyễn Hồ Minh Nguyệt K224131549\n",
        "3.   Phạm Thị Hoài Thư K224131560\n"
      ]
    },
    {
      "cell_type": "markdown",
      "id": "HOW8kis0JdDu",
      "metadata": {
        "id": "HOW8kis0JdDu"
      },
      "source": [
        "# **PHÂN TÍCH MÔ TẢ**"
      ]
    },
    {
      "cell_type": "markdown",
      "id": "tSOj5O26JUgz",
      "metadata": {
        "id": "tSOj5O26JUgz"
      },
      "source": [
        "Thu thập và khám phá dữ liệu"
      ]
    },
    {
      "cell_type": "code",
      "execution_count": null,
      "id": "kOd3xRAITGl9",
      "metadata": {
        "id": "kOd3xRAITGl9"
      },
      "outputs": [],
      "source": [
        "import pandas as pd\n",
        "import requests\n",
        "from io import StringIO\n",
        "\n",
        "url='https://drive.google.com/file/d/1viztnEQaMsATM7efkgprx87ybFXHNQly/view?usp=drive_link'\n",
        "\n",
        "file_id = url.split('/')[-2]\n",
        "dwn_url='https://drive.google.com/uc?export=download&id=' + file_id\n",
        "url2 = requests.get(dwn_url).text\n",
        "csv_raw = StringIO(url2)\n",
        "df = pd.read_csv(csv_raw)\n",
        "print(df.head())"
      ]
    },
    {
      "cell_type": "code",
      "execution_count": null,
      "id": "99136b19-55e3-4b2f-a767-d9c88319be39",
      "metadata": {
        "id": "99136b19-55e3-4b2f-a767-d9c88319be39"
      },
      "outputs": [],
      "source": [
        "df.info()"
      ]
    },
    {
      "cell_type": "code",
      "execution_count": null,
      "id": "c329e8b3-61bb-459b-b211-aaecb68b41f2",
      "metadata": {
        "id": "c329e8b3-61bb-459b-b211-aaecb68b41f2"
      },
      "outputs": [],
      "source": [
        "display(df.describe())\n",
        "df.describe(include=['O'])"
      ]
    },
    {
      "cell_type": "code",
      "execution_count": null,
      "id": "97ecab97-4e10-428b-8570-09b9bf2be123",
      "metadata": {
        "id": "97ecab97-4e10-428b-8570-09b9bf2be123"
      },
      "outputs": [],
      "source": [
        "df.isnull().sum()"
      ]
    },
    {
      "cell_type": "markdown",
      "id": "UOXYGaXuJklf",
      "metadata": {
        "id": "UOXYGaXuJklf"
      },
      "source": [
        "Tiền xử lý dữ liệu"
      ]
    },
    {
      "cell_type": "code",
      "execution_count": null,
      "id": "e32f2415-a1f1-43f0-8b2a-dc0375bdbc3f",
      "metadata": {
        "id": "e32f2415-a1f1-43f0-8b2a-dc0375bdbc3f"
      },
      "outputs": [],
      "source": [
        "for column in df.columns:\n",
        "    if df[column].isnull().any():\n",
        "        if df[column].dtype == 'object':\n",
        "            df[column].fillna(df[column].mode()[0], inplace=True)\n",
        "        else:\n",
        "            df[column].fillna(df[column].mean(), inplace=True)"
      ]
    },
    {
      "cell_type": "code",
      "execution_count": null,
      "id": "2b591fb1-d155-4f47-945f-48e09c01ee1b",
      "metadata": {
        "id": "2b591fb1-d155-4f47-945f-48e09c01ee1b"
      },
      "outputs": [],
      "source": [
        "df.isnull().sum()"
      ]
    },
    {
      "cell_type": "code",
      "execution_count": null,
      "id": "3308dfdd-9c3f-4e28-ba5e-614c53faa08c",
      "metadata": {
        "id": "3308dfdd-9c3f-4e28-ba5e-614c53faa08c"
      },
      "outputs": [],
      "source": [
        "df.columns = [col.lower().replace(' ', '_') for col in df.columns]\n",
        "df.rename(columns=lambda x: x.replace(\"(\", \"\").replace(\")\", \"\"), inplace=True)\n",
        "df.info()"
      ]
    },
    {
      "cell_type": "code",
      "execution_count": null,
      "id": "ee0bf6e2-a991-475a-85fa-c08d71bc6014",
      "metadata": {
        "id": "ee0bf6e2-a991-475a-85fa-c08d71bc6014"
      },
      "outputs": [],
      "source": [
        "df.drop([\"customer_email\",\"customer_fname\", \"customer_lname\",\"customer_id\",\"customer_password\",\"customer_street\",\"customer_zipcode\",\n",
        "         \"department_id\",\"department_name\",\"order_item_cardprod_id\",\"order_state\", \"product_description\", \"product_status\",\"product_image\"]\n",
        "        ,axis= 1 , inplace= True)"
      ]
    },
    {
      "cell_type": "code",
      "execution_count": null,
      "id": "fc206c09-da73-4cfe-9459-707fdc60247f",
      "metadata": {
        "id": "fc206c09-da73-4cfe-9459-707fdc60247f"
      },
      "outputs": [],
      "source": [
        "df.duplicated().sum()"
      ]
    },
    {
      "cell_type": "code",
      "execution_count": null,
      "id": "2211e95b-3c06-47c0-898a-75d863fcdf8b",
      "metadata": {
        "id": "2211e95b-3c06-47c0-898a-75d863fcdf8b"
      },
      "outputs": [],
      "source": [
        "df[df.apply(lambda row: row.astype(str).str.contains('\\?').any(),axis=1)]"
      ]
    },
    {
      "cell_type": "code",
      "execution_count": null,
      "id": "dfa5dc96-b211-4789-8f3b-ff2ebcbc4074",
      "metadata": {
        "id": "dfa5dc96-b211-4789-8f3b-ff2ebcbc4074"
      },
      "outputs": [],
      "source": [
        "for i in df.columns:\n",
        "    for j in range(len(df[i])):\n",
        "        value = str(df[i][j])\n",
        "        if '?' in value:\n",
        "            df.at[j, i] = value.replace('?','')"
      ]
    },
    {
      "cell_type": "code",
      "execution_count": null,
      "id": "c0222546-1252-4a01-9736-a5a6a972b273",
      "metadata": {
        "id": "c0222546-1252-4a01-9736-a5a6a972b273"
      },
      "outputs": [],
      "source": [
        "import matplotlib.pyplot as plt\n",
        "import matplotlib.pyplot as plt\n",
        "fig, axes = plt.subplots(nrows=1, ncols=2, figsize=(15, 5))\n",
        "df[[\"days_for_shipping_real\"]].hist(bins=50, ax=axes[0]);\n",
        "df[[\"days_for_shipping_real\"]].boxplot(ax=axes[1], vert=False);"
      ]
    },
    {
      "cell_type": "code",
      "execution_count": null,
      "id": "1cb7dd90-023c-4607-ac47-2b97a91da7ff",
      "metadata": {
        "id": "1cb7dd90-023c-4607-ac47-2b97a91da7ff"
      },
      "outputs": [],
      "source": [
        "import pandas as pd\n",
        "import matplotlib.pyplot as plt\n",
        "from typing import Tuple\n",
        "from sklearn.base import BaseEstimator, TransformerMixin\n",
        "def find_boxplot_boundaries(\n",
        "    col: pd.Series, whisker_coeff: float = 1.5) -> Tuple[float, float]:\n",
        "    Q1 = col.quantile(0.25)\n",
        "    Q3 = col.quantile(0.75)\n",
        "    IQR = Q3 - Q1\n",
        "    lower = Q1 - whisker_coeff * IQR\n",
        "    upper = Q3 + whisker_coeff * IQR\n",
        "    return lower, upper\n",
        "\n",
        "class BoxplotOutlierClipper(BaseEstimator, TransformerMixin):\n",
        "    def __init__(self, whisker_coeff: float = 1.5):\n",
        "        self.whisker = whisker_coeff\n",
        "        self.lower = None\n",
        "        self.upper = None\n",
        "\n",
        "    def fit(self, X: pd.Series):\n",
        "        self.lower, self.upper = find_boxplot_boundaries(X, self.whisker)\n",
        "        return self\n",
        "\n",
        "    def transform(self, X):\n",
        "        return X.clip(self.lower, self.upper)\n",
        "\n",
        "clipped_benefit_per_order = BoxplotOutlierClipper().fit_transform(df[\"days_for_shipping_real\"])\n",
        "\n",
        "fig, axes = plt.subplots(nrows=1, ncols=2, figsize=(15, 5))\n",
        "clipped_benefit_per_order.hist(bins=50, ax=axes[0])\n",
        "clipped_benefit_per_order.to_frame().boxplot(ax=axes[1], vert=False);"
      ]
    },
    {
      "cell_type": "code",
      "execution_count": null,
      "id": "f755f7c6-aef2-4214-9b41-afacd308e9d8",
      "metadata": {
        "id": "f755f7c6-aef2-4214-9b41-afacd308e9d8"
      },
      "outputs": [],
      "source": [
        "import matplotlib.pyplot as plt\n",
        "fig, axes = plt.subplots(nrows=1, ncols=2, figsize=(15, 5))\n",
        "df[[\"days_for_shipment_scheduled\"]].hist(bins=50, ax=axes[0]);\n",
        "df[[\"days_for_shipment_scheduled\"]].boxplot(ax=axes[1], vert=False);"
      ]
    },
    {
      "cell_type": "code",
      "execution_count": null,
      "id": "06218c33-260f-4e7e-a74b-a6d8535f85df",
      "metadata": {
        "id": "06218c33-260f-4e7e-a74b-a6d8535f85df"
      },
      "outputs": [],
      "source": [
        "import pandas as pd\n",
        "import matplotlib.pyplot as plt\n",
        "from typing import Tuple\n",
        "from sklearn.base import BaseEstimator, TransformerMixin\n",
        "def find_boxplot_boundaries(\n",
        "    col: pd.Series, whisker_coeff: float = 1.5) -> Tuple[float, float]:\n",
        "    Q1 = col.quantile(0.25)\n",
        "    Q3 = col.quantile(0.75)\n",
        "    IQR = Q3 - Q1\n",
        "    lower = Q1 - whisker_coeff * IQR\n",
        "    upper = Q3 + whisker_coeff * IQR\n",
        "    return lower, upper\n",
        "\n",
        "class BoxplotOutlierClipper(BaseEstimator, TransformerMixin):\n",
        "    def __init__(self, whisker_coeff: float = 1.5):\n",
        "        self.whisker = whisker_coeff\n",
        "        self.lower = None\n",
        "        self.upper = None\n",
        "\n",
        "    def fit(self, X: pd.Series):\n",
        "        self.lower, self.upper = find_boxplot_boundaries(X, self.whisker)\n",
        "        return self\n",
        "\n",
        "    def transform(self, X):\n",
        "        return X.clip(self.lower, self.upper)\n",
        "\n",
        "clipped_order_profit_per_order = BoxplotOutlierClipper().fit_transform(df[\"days_for_shipment_scheduled\"])\n",
        "\n",
        "fig, axes = plt.subplots(nrows=1, ncols=2, figsize=(15, 5))\n",
        "clipped_order_profit_per_order.hist(bins=50, ax=axes[0])\n",
        "clipped_order_profit_per_order.to_frame().boxplot(ax=axes[1], vert=False);"
      ]
    },
    {
      "cell_type": "code",
      "execution_count": null,
      "id": "51c1799e-7a31-4fbc-b37e-da235ce2b091",
      "metadata": {
        "id": "51c1799e-7a31-4fbc-b37e-da235ce2b091"
      },
      "outputs": [],
      "source": [
        "df_1=df.copy()\n",
        "df_1"
      ]
    },
    {
      "cell_type": "markdown",
      "id": "f42_v8BlJs-Z",
      "metadata": {
        "id": "f42_v8BlJs-Z"
      },
      "source": [
        "Trực quan hóa dữ liệu"
      ]
    },
    {
      "cell_type": "code",
      "execution_count": null,
      "id": "qGunnBRtm2qz",
      "metadata": {
        "id": "qGunnBRtm2qz"
      },
      "outputs": [],
      "source": [
        "df['market'].value_counts().plot.pie(autopct='%1.1f%%', startangle=90, colors=sns.color_palette('pastel'))\n",
        "plt.title('Market Distribution')\n",
        "plt.ylabel('')\n",
        "plt.show()\n",
        "\n",
        "df['customer_segment'].value_counts().plot.pie(autopct='%1.1f%%', startangle=90, colors=sns.color_palette('pastel'))\n",
        "plt.title('Customer Segment Distribution')\n",
        "plt.ylabel('')\n",
        "plt.show()\n"
      ]
    },
    {
      "cell_type": "code",
      "execution_count": null,
      "id": "In90pTxqn8Nw",
      "metadata": {
        "id": "In90pTxqn8Nw"
      },
      "outputs": [],
      "source": [
        "category_counts = df['category_name'].value_counts()\n",
        "plt.figure(figsize=(12, 6))\n",
        "sns.barplot(x=category_counts.index, y=category_counts.values, palette='coolwarm')\n",
        "plt.title('Count of Each Category Name')\n",
        "plt.xlabel('Category Name')\n",
        "plt.ylabel('Count')\n",
        "plt.xticks(rotation=45, ha='right')\n",
        "plt.show()\n",
        "\n",
        "product_counts = df['product_name'].value_counts().nlargest(10)\n",
        "plt.figure(figsize=(12, 6))\n",
        "sns.barplot(x=product_counts.index, y=product_counts.values, palette='coolwarm')\n",
        "plt.title('Top 10 Most Common Products')\n",
        "plt.xlabel('Product Name')\n",
        "plt.ylabel('Count')\n",
        "plt.xticks(rotation=45, ha='right')\n",
        "plt.show()"
      ]
    },
    {
      "cell_type": "code",
      "source": [
        "sns.pairplot(df[['sales_per_customer', 'benefit_per_order', 'order_item_product_price']], diag_kind='kde', palette='coolwarm')\n",
        "plt.suptitle('Pair Plot of Continuous Variables', y=1.02)\n",
        "plt.show()"
      ],
      "metadata": {
        "id": "z86QXyS04ulQ"
      },
      "id": "z86QXyS04ulQ",
      "execution_count": null,
      "outputs": []
    },
    {
      "cell_type": "code",
      "execution_count": null,
      "id": "839731bf-9758-479b-84c7-c68eccc4a967",
      "metadata": {
        "id": "839731bf-9758-479b-84c7-c68eccc4a967"
      },
      "outputs": [],
      "source": [
        "from sklearn.preprocessing import LabelEncoder\n",
        "\n",
        "object_columns = df.select_dtypes(include=['object']).columns.tolist()\n",
        "\n",
        "for column in object_columns:\n",
        "    df[column] = df[column].astype(str)\n",
        "    label_encoder = LabelEncoder()\n",
        "    df[column] = label_encoder.fit_transform(df[column])\n",
        "\n",
        "df.info()"
      ]
    },
    {
      "cell_type": "code",
      "execution_count": null,
      "id": "71843fcb-ba9f-4713-990e-b120a29510de",
      "metadata": {
        "id": "71843fcb-ba9f-4713-990e-b120a29510de"
      },
      "outputs": [],
      "source": [
        "df['late_days'] = df['days_for_shipping_real'] - df['days_for_shipment_scheduled']\n",
        "df['late_days']"
      ]
    },
    {
      "cell_type": "markdown",
      "id": "3DS0KK5xlSQd",
      "metadata": {
        "id": "3DS0KK5xlSQd"
      },
      "source": [
        "Trực quan hóa"
      ]
    },
    {
      "cell_type": "code",
      "execution_count": null,
      "id": "YC_InUYglT4-",
      "metadata": {
        "id": "YC_InUYglT4-"
      },
      "outputs": [],
      "source": [
        "plt.figure(figsize=(14, 6))\n",
        "sns.histplot(df['days_for_shipping_real'], kde=True, color='blue')\n",
        "plt.title('Distribution of Days for Shipping (real)')\n",
        "plt.xlabel('days_for_shipping_real')\n",
        "plt.ylabel('Frequency')\n",
        "plt.show()\n",
        "\n",
        "plt.figure(figsize=(14, 6))\n",
        "sns.histplot(df['days_for_shipment_scheduled'], kde=True, color='blue')\n",
        "plt.title('Distribution of Days for shipment (scheduled)')\n",
        "plt.xlabel('days_for_shipment_scheduled')\n",
        "plt.ylabel('Frequency')\n",
        "plt.show()"
      ]
    },
    {
      "cell_type": "code",
      "execution_count": null,
      "id": "f8a41f81-5dee-4a4d-88dd-3651bbb52bd4",
      "metadata": {
        "id": "f8a41f81-5dee-4a4d-88dd-3651bbb52bd4"
      },
      "outputs": [],
      "source": [
        "numeric_df = df.select_dtypes(include=['number'])\n",
        "numeric_df.corr()"
      ]
    },
    {
      "cell_type": "code",
      "execution_count": null,
      "id": "6d4f55bc-39ab-45e1-9a9a-f6223c228618",
      "metadata": {
        "id": "6d4f55bc-39ab-45e1-9a9a-f6223c228618"
      },
      "outputs": [],
      "source": [
        "import matplotlib.pyplot as plt\n",
        "import seaborn as sns\n",
        "plt.figure(figsize=(16,14))\n",
        "sns.heatmap(df.corr(numeric_only=True), annot=True, cmap='coolwarm', vmin=-1, vmax=1, annot_kws={\"size\": 8}, fmt=\".2f\")\n",
        "plt.title('Correlation Heatmap')"
      ]
    },
    {
      "cell_type": "markdown",
      "id": "zhZzGOVgJ2S1",
      "metadata": {
        "id": "zhZzGOVgJ2S1"
      },
      "source": [
        "# **PHÂN TÍCH DỰ ĐOÁN**"
      ]
    },
    {
      "cell_type": "markdown",
      "id": "rBVHgCqCKAiT",
      "metadata": {
        "id": "rBVHgCqCKAiT"
      },
      "source": [
        "Dự đoán rủi ro giao hàng trễ"
      ]
    },
    {
      "cell_type": "code",
      "execution_count": null,
      "id": "c8d9bb65-b49b-4b17-b5fb-963af40476b3",
      "metadata": {
        "id": "c8d9bb65-b49b-4b17-b5fb-963af40476b3"
      },
      "outputs": [],
      "source": [
        "df_copy=df[['type',\"days_for_shipment_scheduled\",\"delivery_status\",\"late_delivery_risk\",\"category_id\",\n",
        "            \"customer_city\",\"customer_country\",\"customer_segment\",\"customer_state\",\"latitude\",\"longitude\",\"order_country\",\"order_city\",\n",
        "            \"order_item_product_price\",\"order_item_quantity\",\"order_status\",\"product_card_id\",\"product_price\",\n",
        "            \"shipping_date_dateorders\",\"shipping_mode\",\"late_days\",\"order_date_dateorders\",\"order_region\",\"market\"]]\n"
      ]
    },
    {
      "cell_type": "code",
      "execution_count": null,
      "id": "7a8ca769-dd3f-46ba-9d1f-361cf12a6d45",
      "metadata": {
        "id": "7a8ca769-dd3f-46ba-9d1f-361cf12a6d45"
      },
      "outputs": [],
      "source": [
        "c=df.corr()\n",
        "print(c['late_delivery_risk'])"
      ]
    },
    {
      "cell_type": "code",
      "execution_count": null,
      "id": "2e8ae33e-b9b9-45c9-887d-4f3a607b40e0",
      "metadata": {
        "id": "2e8ae33e-b9b9-45c9-887d-4f3a607b40e0"
      },
      "outputs": [],
      "source": [
        "delivery_status_data = df_1['delivery_status']\n",
        "\n",
        "delivery_status_summary = delivery_status_data.value_counts()\n",
        "\n",
        "plt.figure(figsize=(10, 6))\n",
        "sns.set(style=\"whitegrid\")\n",
        "sns.countplot(data=df_1, x='delivery_status', order=delivery_status_summary.index, palette='coolwarm')\n",
        "plt.title('Delivery Status Distribution')\n",
        "plt.xlabel('Delivery Status')\n",
        "plt.ylabel('Count')\n",
        "\n",
        "print(\"Delivery Status Summary:\")\n",
        "print(delivery_status_summary)"
      ]
    },
    {
      "cell_type": "code",
      "execution_count": null,
      "id": "a17f354f-1854-4376-b927-c088f89d014c",
      "metadata": {
        "id": "a17f354f-1854-4376-b927-c088f89d014c"
      },
      "outputs": [],
      "source": [
        "df_copy['late_days'].value_counts().plot.pie(legend = [\"0\", \"1\"])"
      ]
    },
    {
      "cell_type": "code",
      "execution_count": null,
      "id": "2327bd8a-5496-42e9-a9a4-2491767512e6",
      "metadata": {
        "id": "2327bd8a-5496-42e9-a9a4-2491767512e6"
      },
      "outputs": [],
      "source": [
        "delivery_status_data = df_1['delivery_status']\n",
        "shipping_mode_data = df_1['shipping_mode']\n",
        "\n",
        "cross_tab = pd.crosstab(shipping_mode_data, delivery_status_data)\n",
        "\n",
        "cross_tab_percent = cross_tab.div(cross_tab.sum(1), axis=0) * 100\n",
        "\n",
        "plt.figure(figsize=(12, 8))\n",
        "sns.set(style=\"whitegrid\")\n",
        "cross_tab_percent.plot(kind=\"bar\", stacked=True, colormap='Set2')\n",
        "plt.title('Delivery Status by Shipping Mode (Percentage)')\n",
        "plt.xlabel('Shipping Mode')\n",
        "plt.ylabel('Percentage')\n",
        "\n",
        "print(\"Cross-Tabulation (Contingency Table) with Percentages:\")\n",
        "print(cross_tab_percent)"
      ]
    },
    {
      "cell_type": "code",
      "execution_count": null,
      "id": "8GNrS73sr36Q",
      "metadata": {
        "id": "8GNrS73sr36Q"
      },
      "outputs": [],
      "source": [
        "late_delivery_data = df_1[df_1['delivery_status'] == 'Late delivery']\n",
        "late_by_product = late_delivery_data['category_name'].value_counts().nlargest(10).reset_index()\n",
        "\n",
        "plt.figure(figsize=(12, 6))\n",
        "sns.barplot(x=late_by_product.index, y=product_counts.values, palette='coolwarm')\n",
        "plt.title('Top 10 Danh mục hàng giao hàng muộn')\n",
        "plt.xlabel('Tên danh mục')\n",
        "plt.ylabel('Số lượng')\n",
        "plt.xticks(rotation=45, ha='right')\n",
        "plt.show()"
      ]
    },
    {
      "cell_type": "code",
      "execution_count": null,
      "id": "0e48c57b-00a9-44ba-b620-a4248d42c510",
      "metadata": {
        "id": "0e48c57b-00a9-44ba-b620-a4248d42c510"
      },
      "outputs": [],
      "source": [
        "group = df_1.groupby(['market', 'delivery_status']).market.count().unstack()\n",
        "group.plot(kind='bar')"
      ]
    },
    {
      "cell_type": "code",
      "execution_count": null,
      "id": "b7b66dd6-e33f-4a62-b09a-a44429442fbd",
      "metadata": {
        "id": "b7b66dd6-e33f-4a62-b09a-a44429442fbd"
      },
      "outputs": [],
      "source": [
        "import pandas as pd\n",
        "import numpy as np\n",
        "from sklearn.model_selection import train_test_split\n",
        "from sklearn.preprocessing import StandardScaler\n",
        "from sklearn.linear_model import LogisticRegression\n",
        "from sklearn.metrics import accuracy_score, roc_auc_score\n",
        "\n",
        "from sklearn.model_selection import cross_val_score\n",
        "from sklearn.decomposition import PCA\n",
        "from sklearn.svm import SVC\n",
        "from sklearn.tree import DecisionTreeClassifier\n",
        "from sklearn.ensemble import RandomForestClassifier\n",
        "from sklearn.ensemble import AdaBoostClassifier\n",
        "from sklearn.ensemble import GradientBoostingClassifier\n",
        "from sklearn.naive_bayes import GaussianNB\n",
        "from xgboost import XGBClassifier\n",
        "from sklearn.neighbors import KNeighborsClassifier\n",
        "from sklearn.ensemble import ExtraTreesClassifier, BaggingClassifier\n",
        "from sklearn.discriminant_analysis import QuadraticDiscriminantAnalysis, LinearDiscriminantAnalysis\n",
        "import matplotlib.pyplot as plt\n",
        "import seaborn as sns"
      ]
    },
    {
      "cell_type": "code",
      "execution_count": null,
      "id": "8e8e393d-c3da-4bb9-bb9a-e05448d7e598",
      "metadata": {
        "id": "8e8e393d-c3da-4bb9-bb9a-e05448d7e598"
      },
      "outputs": [],
      "source": [
        "df_copy.info()"
      ]
    },
    {
      "cell_type": "code",
      "execution_count": null,
      "id": "1e3d2ac3-6460-4250-b70b-a18eeadef626",
      "metadata": {
        "id": "1e3d2ac3-6460-4250-b70b-a18eeadef626"
      },
      "outputs": [],
      "source": [
        "target1 = 'late_delivery_risk'\n",
        "if target1 not in df_1.columns:\n",
        "    raise ValueError(f\"The target variable '{target1}' is not present in the dataset.\")"
      ]
    },
    {
      "cell_type": "code",
      "execution_count": null,
      "id": "65f12634-b1f0-46d4-b3c6-766a2a480ae6",
      "metadata": {
        "id": "65f12634-b1f0-46d4-b3c6-766a2a480ae6"
      },
      "outputs": [],
      "source": [
        "X = df_copy.drop(target1, axis=1)\n",
        "y = df_copy[target1]\n",
        "\n",
        "from imblearn.over_sampling import SMOTE\n",
        "\n",
        "smote = SMOTE(random_state=42)\n",
        "\n",
        "X_balanced, y_balanced = smote.fit_resample(X, y)\n",
        "y = y_balanced\n",
        "X = X_balanced\n",
        "\n",
        "class_counts = pd.Series(y_balanced).value_counts()\n",
        "print(\"Số lượng lớp 0 sau khi cân bằng:\", class_counts[0])\n",
        "print(\"Số lượng lớp 1 sau khi cân bằng:\", class_counts[1])\n"
      ]
    },
    {
      "cell_type": "code",
      "execution_count": null,
      "id": "69068425-3ca6-4ce4-8b4f-3710c951ea4f",
      "metadata": {
        "colab": {
          "background_save": true
        },
        "id": "69068425-3ca6-4ce4-8b4f-3710c951ea4f"
      },
      "outputs": [],
      "source": [
        "X_train, X_test, y_train, y_test = train_test_split(X, y, test_size=0.3, random_state=42)\n",
        "\n",
        "scaler = StandardScaler()\n",
        "X_train = scaler.fit_transform(X_train)\n",
        "X_test = scaler.transform(X_test)\n",
        "\n",
        "from sklearn.decomposition import PCA\n",
        "from sklearn.model_selection import  KFold, cross_val_score, StratifiedKFold\n",
        "import numpy as np\n",
        "import pandas as pd\n",
        "\n",
        "models = [\n",
        "    (\"Decision Tree\", DecisionTreeClassifier()),\n",
        "    (\"Random Forest\", RandomForestClassifier()),\n",
        "    (\"Gaussian Naive Bayes\", GaussianNB()),\n",
        "    (\"Logistic Regression\", LogisticRegression()),\n",
        "    (\"KNeighbors\", KNeighborsClassifier())\n",
        "]\n",
        "\n",
        "output = {'Model': [], 'Accuracy': [], 'Precision': [], 'Recall': [], 'F1-score': []}\n",
        "for model_name, model in models:\n",
        "    model.fit(X_train, y_train)\n",
        "    accuracy_scores = cross_val_score(model, X_test, y_test,  scoring='accuracy')\n",
        "    precision_scores = cross_val_score(model, X_test, y_test,  scoring='precision')\n",
        "    recall_scores = cross_val_score(model, X_test, y_test,   scoring='recall')\n",
        "    f1_scores = cross_val_score(model, X_test, y_test,   scoring='f1')\n",
        "    output['Model'].append(model_name)\n",
        "    output['Accuracy'].append(np.mean(accuracy_scores))\n",
        "    output['Precision'].append(np.mean(precision_scores))\n",
        "    output['Recall'].append(np.mean(recall_scores))\n",
        "    output['F1-score'].append(np.mean(f1_scores))\n",
        "\n",
        "output_df = pd.DataFrame(output)\n",
        "output_df"
      ]
    },
    {
      "cell_type": "code",
      "execution_count": null,
      "id": "bc536f48-104a-48e3-9c8d-0c233153237a",
      "metadata": {
        "colab": {
          "background_save": true
        },
        "id": "bc536f48-104a-48e3-9c8d-0c233153237a"
      },
      "outputs": [],
      "source": [
        "from sklearn.decomposition import PCA\n",
        "from sklearn.model_selection import  KFold, cross_val_score, StratifiedKFold\n",
        "import numpy as np\n",
        "import pandas as pd\n",
        "\n",
        "pca = PCA(n_components=0.8)\n",
        "\n",
        "X_train_pca = pca.fit_transform(X_train)\n",
        "X_test_pca = pca.transform(X_test)\n",
        "\n",
        "models = [\n",
        "    (\"Decision Tree\", DecisionTreeClassifier()),\n",
        "    (\"Random Forest\", RandomForestClassifier()),\n",
        "    (\"Gaussian Naive Bayes\", GaussianNB()),\n",
        "    (\"Logistic Regression\", LogisticRegression()),\n",
        "    (\"KNeighbors\", KNeighborsClassifier())\n",
        "]\n",
        "\n",
        "output = {'Model': [], 'Accuracy': [], 'Precision': [], 'Recall': [], 'F1-score': [],}\n",
        "for model_name, model in models:\n",
        "    model.fit(X_train_pca, y_train)\n",
        "    accuracy_scores = cross_val_score(model, X_test_pca,  y_test, scoring='accuracy')\n",
        "    precision_scores = cross_val_score(model, X_test_pca,  y_test,  scoring='precision')\n",
        "    recall_scores = cross_val_score(model, X_test_pca,  y_test,  scoring='recall')\n",
        "    f1_scores = cross_val_score(model, X_test_pca,  y_test,  scoring='f1')\n",
        "    output['Model'].append(model_name)\n",
        "    output['Accuracy'].append(np.mean(accuracy_scores))\n",
        "    output['Precision'].append(np.mean(precision_scores))\n",
        "    output['Recall'].append(np.mean(recall_scores))\n",
        "    output['F1-score'].append(np.mean(f1_scores))\n",
        "\n",
        "output_df = pd.DataFrame(output)\n",
        "output_df"
      ]
    },
    {
      "cell_type": "code",
      "source": [
        "best_model_name = output_df.loc[output_df['Accuracy'].idxmax(), 'Model']\n",
        "best_model_classifier = models[best_model_name]\n",
        "print(f\"Best Model: {best_model_name}\")\n",
        "\n",
        "with open('best_model.pkl', 'wb') as f:\n",
        "    pickle.dump(best_model_classifier, f)\n",
        "### COde sửa lại nha\n",
        "from google.colab import files\n",
        "# Change the filename to match the saved file name\n",
        "files.download('best_model.pkl')"
      ],
      "metadata": {
        "id": "vFILbVL3cKgB"
      },
      "id": "vFILbVL3cKgB",
      "execution_count": null,
      "outputs": []
    },
    {
      "cell_type": "code",
      "execution_count": null,
      "id": "ca72f611-69fc-4b8c-b1b2-dc8f83b079e8",
      "metadata": {
        "colab": {
          "background_save": true
        },
        "id": "ca72f611-69fc-4b8c-b1b2-dc8f83b079e8"
      },
      "outputs": [],
      "source": [
        "# Test\n",
        "\n",
        "# Function to perform frequency encoding\n",
        "def frequency_encoding(df, column):\n",
        "    frequency_map = df[column].value_counts(normalize=True)\n",
        "    df[column + '_freq_encoded'] = df[column].map(frequency_map)\n",
        "    return df\n",
        "\n",
        "# New data to predict\n",
        "instances_to_predict = pd.DataFrame({\n",
        "    'Type': ['DEBIT','DEBIT'],\n",
        "    'Days for shipment (scheduled)': [5,6],\n",
        "    'Delivery Status': ['Advance shipping','Advance shipping'],\n",
        "    'Category Id': [17,17],\n",
        "    'Category Name': ['Cleats','Cleats'],\n",
        "    'Customer City': ['Los Angeles','Los Angeles'],\n",
        "    'Customer Country': ['EE. UU.', 'EE. UU.'],\n",
        "    'Customer Segment': ['Corporate','Corporate'],\n",
        "    'Customer State': ['NY','NY'],\n",
        "    'Latitude': [17.24253835,17.24253835],\n",
        "    'Longitude': [-65.03704823,-65.03704823],\n",
        "    'Order City': ['Bikaner','Bikaner'],\n",
        "    'Order Country': ['India','India'],\n",
        "    'Order Item Product Price': [327.75,327.75],\n",
        "    'Order Item Quantity': [2,2],\n",
        "    'Order Status': ['COMPLETE','COMPLETE'],\n",
        "    'Product Card Id': [1360,1360],\n",
        "    'Product Price': [327.75,327.75],\n",
        "    'Order Region': ['Southeast Asia','Southeast Asia'],\n",
        "    'Market': ['Asia','Asia']\n",
        "})\n",
        "\n",
        "# Columns to be frequency encoded\n",
        "columns_to_encode = ['Type', 'Delivery Status','Category Name','Customer City','Customer Country','Customer Segment',\n",
        "                    'Customer State','Order City','Order Country','Order Status','Order Region','Market']\n",
        "\n",
        "# Perform frequency encoding for each column\n",
        "for column in columns_to_encode:\n",
        "    instances_to_predict = frequency_encoding(instances_to_predict, column)\n",
        "\n",
        "# Drop the original categorical columns\n",
        "instances_to_predict.drop(columns=columns_to_encode, inplace=True)\n",
        "\n",
        "# Standardize the features\n",
        "scaler = StandardScaler()\n",
        "instances_to_predict_scaled = scaler.fit_transform(instances_to_predict)\n",
        "\n",
        "# Simulated training data and labels\n",
        "# Replace these with your actual training data and labels\n",
        "X_train = np.random.rand(10, instances_to_predict_scaled.shape[1])\n",
        "y_train = np.random.randint(0, 2, 10)  # Random binary labels\n",
        "\n",
        "# Train the model\n",
        "gb_model = RandomForestClassifier()\n",
        "gb_model.fit(X_train, y_train)\n",
        "\n",
        "# Predict whether delivery is late or not\n",
        "predictions = gb_model.predict(instances_to_predict_scaled)\n",
        "\n",
        "# Print the predictions\n",
        "print(\"Case 1: Predicted Late Delivery:\", \"Yes\" if predictions[0] == 1 else \"No\")\n",
        "print(\"Case 2: Predicted Late Delivery:\", \"Yes\" if predictions[1] == 1 else \"No\")\n",
        "\n"
      ]
    },
    {
      "cell_type": "markdown",
      "id": "h3yHaed0mP98",
      "metadata": {
        "id": "h3yHaed0mP98"
      },
      "source": [
        "Dự đoán doanh số mỗi khách hàng tạo ra"
      ]
    },
    {
      "cell_type": "code",
      "execution_count": null,
      "id": "kHuHZ5RlniMq",
      "metadata": {
        "colab": {
          "background_save": true
        },
        "id": "kHuHZ5RlniMq"
      },
      "outputs": [],
      "source": [
        "df_copy2=df[[\"sales\",\"delivery_status\",\"category_id\",\"customer_city\",\"customer_country\",\"customer_segment\",\"customer_state\",\"order_country\",\"order_city\",\n",
        "            \"order_item_product_price\",\"order_item_quantity\",\"order_status\",\"product_card_id\",\"product_price\",\"order_region\",\"market\"]]"
      ]
    },
    {
      "cell_type": "code",
      "execution_count": null,
      "id": "iJMR1TrOojq6",
      "metadata": {
        "colab": {
          "background_save": true
        },
        "id": "iJMR1TrOojq6"
      },
      "outputs": [],
      "source": [
        "c=df.corr()\n",
        "print(c['sales'])"
      ]
    },
    {
      "cell_type": "code",
      "execution_count": null,
      "id": "vubqB72joy3k",
      "metadata": {
        "colab": {
          "background_save": true
        },
        "id": "vubqB72joy3k"
      },
      "outputs": [],
      "source": [
        "df['order_date_dateorders'] = pd.to_datetime(df['order_date_dateorders'])\n",
        "\n",
        "plt.figure(figsize=(14, 6))\n",
        "df.groupby('order_date_dateorders')['sales'].sum().plot()\n",
        "plt.title('Total Sales Over Time')\n",
        "plt.xlabel('Date')\n",
        "plt.ylabel('Sales')\n",
        "plt.show()"
      ]
    },
    {
      "cell_type": "code",
      "source": [
        "df_1['order_date_dateorders)'] = pd.to_datetime(df_1['order_date_dateorders'], errors='coerce')\n",
        "df_1['sales'] = pd.to_numeric(df_1['sales'], errors='coerce')\n",
        "df_1_cleaned = df_1.dropna(subset=['sales', 'order_date_dateorders)'])\n",
        "df_1_cleaned['Month'] = df_1_cleaned['order_date_dateorders)'].dt.to_period('M')\n",
        "monthly_sales_total = df_1_cleaned.groupby('Month')['sales'].mean().reset_index()\n",
        "monthly_sales_total['Month'] = monthly_sales_total['Month'].dt.to_timestamp()\n",
        "\n",
        "plt.figure(figsize=(14, 6))\n",
        "sns.lineplot(x=monthly_sales_total['Month'], y=monthly_sales_total['sales'], color='blue', linewidth=2)\n",
        "plt.title('Sales Over Time (Monthly Average)')\n",
        "plt.xlabel('Month')\n",
        "plt.ylabel('Sales')\n",
        "plt.xticks(rotation=45)\n",
        "plt.tight_layout()\n",
        "plt.show()"
      ],
      "metadata": {
        "id": "1rAT3w2s7VDR"
      },
      "id": "1rAT3w2s7VDR",
      "execution_count": null,
      "outputs": []
    },
    {
      "cell_type": "code",
      "source": [
        "market_sales = df_1.groupby('market')['sales'].sum()\n",
        "\n",
        "top_n_markets = market_sales.sort_values(ascending=False).head(10)\n",
        "\n",
        "plt.figure(figsize=(12, 6))\n",
        "top_n_markets.plot(kind='bar')\n",
        "plt.title('Top Markets by Total Sales')\n",
        "plt.xlabel('Market')\n",
        "plt.ylabel('Total Sales')\n",
        "plt.xticks(rotation=45, ha='right')\n",
        "plt.tight_layout()\n",
        "plt.show()"
      ],
      "metadata": {
        "id": "IxDL5ZlQ7oDh"
      },
      "id": "IxDL5ZlQ7oDh",
      "execution_count": null,
      "outputs": []
    },
    {
      "cell_type": "code",
      "execution_count": null,
      "id": "hhAl38J6tIQW",
      "metadata": {
        "colab": {
          "background_save": true
        },
        "id": "hhAl38J6tIQW"
      },
      "outputs": [],
      "source": [
        "plt.figure(figsize=(12, 6))\n",
        "sns.barplot(x='category_name', y='sales', data=df_1)\n",
        "plt.title('Doanh thu theo loại hàng')\n",
        "plt.xlabel('Loại hàng')\n",
        "plt.ylabel('Doanh thu')\n",
        "plt.xticks(rotation=45, ha='right')\n",
        "plt.tight_layout()\n",
        "plt.show()"
      ]
    },
    {
      "cell_type": "code",
      "execution_count": null,
      "id": "QRRmuuXDrlYU",
      "metadata": {
        "colab": {
          "background_save": true
        },
        "id": "QRRmuuXDrlYU"
      },
      "outputs": [],
      "source": [
        "target2 = 'sales'\n",
        "if target2 not in df_1.columns:\n",
        "    raise ValueError(f\"The target variable '{target2}' is not present in the dataset.\")"
      ]
    },
    {
      "cell_type": "code",
      "execution_count": null,
      "id": "98JqQPKw7jaI",
      "metadata": {
        "id": "98JqQPKw7jaI"
      },
      "outputs": [],
      "source": [
        "!pip install scikit-learn\n",
        "from sklearn.linear_model import LinearRegression\n",
        "from sklearn.preprocessing import PolynomialFeatures\n",
        "from sklearn.svm import SVR\n",
        "from sklearn.tree import DecisionTreeRegressor\n",
        "from sklearn.ensemble import RandomForestRegressor\n",
        "from sklearn.metrics import mean_squared_error, mean_absolute_error, mean_squared_log_error, r2_score\n",
        "from sklearn.pipeline import make_pipeline\n",
        "\n",
        "X = df_copy2.drop(target2, axis=1)\n",
        "y = df_copy2[target2]\n",
        "\n",
        "X2_train, X2_test, y2_train, y2_test = train_test_split(X2, y2, test_size=0.3, random_state=42)\n",
        "\n",
        "scaler = StandardScaler()\n",
        "X2_train = scaler.fit_transform(X2_train)\n",
        "X2_test = scaler.transform(X2_test)\n",
        "\n",
        "\n",
        "\n",
        "models = {\n",
        "    'Multiple Linear Regression': LinearRegression(),\n",
        "    'Polynomial Regression': make_pipeline(PolynomialFeatures(degree=2), LinearRegression()),\n",
        "    'Support Vector Regression': SVR(),\n",
        "    'Decision Tree Regression': DecisionTreeRegressor(),\n",
        "    'Random Forest Regression': RandomForestRegressor()\n",
        "}\n",
        "\n",
        "results = {}\n",
        "for name, model in models.items():\n",
        "    model.fit(X2_train, y2_train)\n",
        "    y2_pred = model.predict(X2_test)\n",
        "\n",
        "    mse = mean_squared_error(y2_test, y2_pred)\n",
        "    rmse = np.sqrt(mse)\n",
        "    mae = mean_absolute_error(y2_test, y2_pred)\n",
        "    msle = mean_squared_log_error(y2_test, y2_pred)\n",
        "    r_square = r2_score(y2_test, y2_pred)\n",
        "    results[name] = {'MSE': mse, 'RMSE': rmse, 'MAE': mae, 'MSLE': msle, 'R^2': r_square}\n",
        "\n",
        "for model_name, metrics in results.items():\n",
        "    print(f\"{model_name} performance:\")\n",
        "    for metric, value in metrics.items():\n",
        "        print(f\"  {metric}: {value:.4f}\")\n",
        "    print()"
      ]
    },
    {
      "cell_type": "code",
      "source": [
        "X2_train, X2_test, y2_train, y2_test = train_test_split(X2, y2, test_size=0.3, random_state=42)\n",
        "\n",
        "scaler = StandardScaler()\n",
        "X2_train = scaler.fit_transform(X2_train)\n",
        "X2_test = scaler.transform(X2_test)\n",
        "\n",
        "models = {\n",
        "    'Multiple Linear Regression': LinearRegression(),\n",
        "    'Polynomial Regression': make_pipeline(PolynomialFeatures(degree=2), LinearRegression()),\n",
        "    'Support Vector Regression': SVR(),\n",
        "    'Decision Tree Regression': DecisionTreeRegressor(max_depth=10), # Limit tree depth\n",
        "    'Random Forest Regression': RandomForestRegressor(n_estimators=100, max_depth=10) # More estimators, limit depth\n",
        "}\n",
        "\n",
        "results = {}\n",
        "for name, model in models.items():\n",
        "    model.fit(X2_train, y2_train)\n",
        "    y2_pred = model.predict(X2_test)\n",
        "\n",
        "    mse = mean_squared_error(y2_test, y2_pred)\n",
        "    rmse = np.sqrt(mse)\n",
        "    mae = mean_absolute_error(y2_test, y2_pred)\n",
        "    msle = mean_squared_log_error(y2_test, y2_pred)\n",
        "    r_square = r2_score(y2_test, y2_pred)\n",
        "    results[name] = {'MSE': mse, 'RMSE': rmse, 'MAE': mae, 'MSLE': msle, 'R^2': r_square}\n",
        "\n",
        "for model_name, metrics in results.items():\n",
        "    print(f\"{model_name} performance:\")\n",
        "    for metric, value in metrics.items():\n",
        "        print(f\"  {metric}: {value:.4f}\")\n",
        "    print()"
      ],
      "metadata": {
        "id": "i2Nizp0A85tF"
      },
      "id": "i2Nizp0A85tF",
      "execution_count": null,
      "outputs": []
    },
    {
      "cell_type": "code",
      "source": [
        "best_model_name_2 = max(results, key=lambda x: results[x]['R^2'])\n",
        "best_model_regression = models[best_model_name_2]\n",
        "\n",
        "joblib.dump(best_model_regression, 'best_model_regression.pkl')\n",
        "\n",
        "# In kết quả của mô hình tốt nhất\n",
        "print(f\"Best Model: {best_model_name_2}\")\n",
        "print(f\"Metrics: {results[best_model_name_2]}\")"
      ],
      "metadata": {
        "id": "h4mLffQhcUgY"
      },
      "id": "h4mLffQhcUgY",
      "execution_count": null,
      "outputs": []
    },
    {
      "cell_type": "code",
      "source": [
        "with open('best_model_regression.pkl', 'wb') as f:\n",
        "    pickle.dump(best_model_regression, f)\n",
        "\n",
        "from google.colab import files\n",
        "files.download('best_mode_regressionl.pkl')"
      ],
      "metadata": {
        "id": "6ef-sOkVcYwc"
      },
      "id": "6ef-sOkVcYwc",
      "execution_count": null,
      "outputs": []
    },
    {
      "cell_type": "code",
      "execution_count": null,
      "id": "5vhmzrxAKHYw",
      "metadata": {
        "id": "5vhmzrxAKHYw"
      },
      "outputs": [],
      "source": [
        "# Test\n",
        "\n",
        "# Function to perform frequency encoding\n",
        "def frequency_encoding(df, column):\n",
        "    frequency_map = df[column].value_counts(normalize=True)\n",
        "    df[column + '_freq_encoded'] = df[column].map(frequency_map)\n",
        "    return df\n",
        "\n",
        "# New data to predict\n",
        "instances_to_predict = pd.DataFrame({\n",
        "    'Delivery Status': ['Advance shipping','Advance shipping'],\n",
        "    'Category Id': [17,17],\n",
        "    'Customer City': ['Los Angeles','Los Angeles'],\n",
        "    'Customer Country': ['EE. UU.', 'EE. UU.'],\n",
        "    'Customer Segment': ['Corporate','Corporate'],\n",
        "    'Customer State': ['NY','NY'],\n",
        "    'Order City': ['Bikaner','Bikaner'],\n",
        "    'Order Country': ['India','India'],\n",
        "    'Order Item Product Price': [327.75,327.75],\n",
        "    'Order Item Quantity': [2,2],\n",
        "    'Order Status': ['COMPLETE','COMPLETE'],\n",
        "    'Product Card Id': [1360,1360],\n",
        "    'Product Price': [327.75,327.75],\n",
        "    'Order Region': ['Southeast Asia','Southeast Asia'],\n",
        "    'Market': ['Asia','Asia']\n",
        "})\n",
        "\n",
        "# Columns to be frequency encoded\n",
        "columns_to_encode = ['Delivery Status','Category Name','Customer City','Customer Country','Customer Segment',\n",
        "                    'Customer State','Order City','Order Country','Order Status','Order Region','Market']\n",
        "\n",
        "# Perform frequency encoding for each column\n",
        "for column in columns_to_encode:\n",
        "    instances_to_predict = frequency_encoding(instances_to_predict, column)\n",
        "\n",
        "# Drop the original categorical columns\n",
        "instances_to_predict.drop(columns=columns_to_encode, inplace=True)\n",
        "\n",
        "# Standardize the features\n",
        "scaler = StandardScaler()\n",
        "instances_to_predict_scaled = scaler.fit_transform(instances_to_predict)\n",
        "\n",
        "# Simulated training data and labels\n",
        "# Replace these with your actual training data and labels\n",
        "X_train = np.random.rand(10, instances_to_predict_scaled.shape[1])\n",
        "y_train = np.random.randint(0, 2, 10)  # Random binary labels\n",
        "\n",
        "# Train the model\n",
        "gb_model = make_pipeline(PolynomialFeatures(degree=2), LinearRegression())\n",
        "gb_model.fit(X_train, y_train)\n",
        "\n",
        "# Predict whether delivery is late or not\n",
        "predictions = gb_model.predict(instances_to_predict_scaled)\n",
        "\n",
        "# Print the predictions\n",
        "print(\"Case 1: Predicted Sales:\", predictions)\n",
        "print(\"Case 2: Predicted Sales:\", predictions)"
      ]
    }
  ],
  "metadata": {
    "colab": {
      "provenance": [],
      "include_colab_link": true
    },
    "kernelspec": {
      "display_name": "Python 3 (ipykernel)",
      "language": "python",
      "name": "python3"
    },
    "language_info": {
      "codemirror_mode": {
        "name": "ipython",
        "version": 3
      },
      "file_extension": ".py",
      "mimetype": "text/x-python",
      "name": "python",
      "nbconvert_exporter": "python",
      "pygments_lexer": "ipython3",
      "version": "3.11.7"
    }
  },
  "nbformat": 4,
  "nbformat_minor": 5
}